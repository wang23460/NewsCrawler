{
 "cells": [
  {
   "cell_type": "code",
   "execution_count": 2,
   "metadata": {},
   "outputs": [],
   "source": [
    "from urllib.request import urlopen\n",
    "from bs4 import BeautifulSoup \n",
    "from selenium import webdriver  \n",
    "from selenium.webdriver.common.action_chains import ActionChains  \n",
    "from selenium.webdriver.support.ui import WebDriverWait\n",
    "from selenium.webdriver.common.by import By\n",
    "from selenium.webdriver.support import expected_conditions as EC\n",
    "from selenium.webdriver.common.keys import Keys\n",
    "from selenium.webdriver.support.ui import Select\n",
    "from bs4.element import NavigableString\n",
    "import time\n",
    "import re\n",
    "import requests\n",
    "import gc\n",
    "\n",
    "import pandas as pd \n",
    "from datetime import timedelta\n",
    "from dateutil.relativedelta import relativedelta\n",
    "import matplotlib.pyplot as plt"
   ]
  },
  {
   "cell_type": "markdown",
   "metadata": {},
   "source": [
    "### **1. IPO Data**\n",
    "* Create IPO dataframe based on each season\n",
    "* IPO Data processing : \n",
    "    * create date range for news searching\n",
    "    * drop foreign company(KY)"
   ]
  },
  {
   "cell_type": "code",
   "execution_count": 5,
   "metadata": {},
   "outputs": [],
   "source": [
    "IPO = pd.read_excel('IPO_RawData.xlsx')\n",
    "IPO = IPO[IPO['ipo_date'] >= '2006-01-01'].reset_index(drop=True)"
   ]
  },
  {
   "cell_type": "code",
   "execution_count": 6,
   "metadata": {},
   "outputs": [],
   "source": [
    "def clean(df):\n",
    "    df['stock_code'] = df['name'].str[:4]\n",
    "    df['name'] = df['name'].str[5:]\n",
    "    df['age'] = df['ipo_date'] - IPO['establish_date']\n",
    "    df['age'] = df['age']/timedelta(days=365)\n",
    "    df['ipo_year'] = df['ipo_date'].dt.year\n",
    "    df['allot'] = df['allot']*0.01\n",
    "    df['ipo_month'] = df['ipo_date'].dt.month\n",
    "\n",
    "clean(IPO)\n",
    "IPO['KY'] = 0\n",
    "IPO.loc[IPO['name'].str.contains('KY'),'KY'] = 1\n",
    "\n",
    "IPO['underprice'] = IPO['close_price']/IPO['offer_price'] - 1\n",
    "\n",
    "IPO['oversub'] = 1/IPO['allot'] \n",
    "\n",
    "# create news search range\n",
    "s = [] \n",
    "e = []\n",
    "    \n",
    "for j in IPO['ipo_date']:\n",
    "    s.append((j - relativedelta(months=1)).strftime(\"%Y-%m-%d\"))\n",
    "    \n",
    "for i in IPO['ipo_date']:\n",
    "    e.append((i- relativedelta(days=1)).strftime(\"%Y-%m-%d\"))\n",
    "\n",
    "IPO['start_date'] = s\n",
    "IPO['end_date'] = e\n",
    "\n",
    "# USE_CODE = IPO[IPO['KY'] == 0][['stock_code']].sort_values(by='stock_code', ascending = 'False').reset_index(drop = True)\n",
    "IPO_USE = IPO[IPO['KY'] == 0].reset_index(drop = True)"
   ]
  },
  {
   "cell_type": "code",
   "execution_count": 7,
   "metadata": {},
   "outputs": [],
   "source": [
    "def ipo_group(i,j):\n",
    "    return IPO_USE[(IPO_USE['ipo_year'] == i) & IPO_USE['ipo_month'].isin(j)].reset_index(drop = True)\n",
    "\n",
    "IPO_0604, IPO_0608, IPO_0612 = ipo_group(2006,list(range(1,5))), ipo_group(2006,list(range(5,9))), ipo_group(2006,list(range(9,13)))\n",
    "IPO_0704, IPO_0708, IPO_0712 = ipo_group(2007,list(range(1,5))), ipo_group(2007,list(range(5,9))), ipo_group(2007,list(range(9,13)))\n",
    "IPO_0804, IPO_0808, IPO_0812 = ipo_group(2008,list(range(1,5))), ipo_group(2008,list(range(5,9))), ipo_group(2008,list(range(9,13)))\n",
    "IPO_0904, IPO_0908, IPO_0912 = ipo_group(2009,list(range(1,5))), ipo_group(2009,list(range(5,9))), ipo_group(2009,list(range(9,13)))\n",
    "IPO_1004, IPO_1008, IPO_1012 = ipo_group(2010,list(range(1,5))), ipo_group(2010,list(range(5,9))), ipo_group(2010,list(range(9,13)))\n",
    "IPO_1104, IPO_1108, IPO_1112 = ipo_group(2011,list(range(1,5))), ipo_group(2011,list(range(5,9))), ipo_group(2011,list(range(9,13)))\n",
    "IPO_1204, IPO_1208, IPO_1212 = ipo_group(2012,list(range(1,5))), ipo_group(2012,list(range(5,9))), ipo_group(2012,list(range(9,13)))\n",
    "IPO_1304, IPO_1308, IPO_1312 = ipo_group(2013,list(range(1,5))), ipo_group(2013,list(range(5,9))), ipo_group(2013,list(range(9,13)))\n",
    "IPO_1404, IPO_1408, IPO_1412 = ipo_group(2014,list(range(1,5))), ipo_group(2014,list(range(5,9))), ipo_group(2014,list(range(9,13)))\n",
    "IPO_1504, IPO_1508, IPO_1512 = ipo_group(2015,list(range(1,5))), ipo_group(2015,list(range(5,9))), ipo_group(2015,list(range(9,13)))\n",
    "IPO_1604, IPO_1608, IPO_1612 = ipo_group(2016,list(range(1,5))), ipo_group(2016,list(range(5,9))), ipo_group(2016,list(range(9,13)))\n",
    "IPO_1704, IPO_1708, IPO_1712 = ipo_group(2017,list(range(1,5))), ipo_group(2017,list(range(5,9))), ipo_group(2017,list(range(9,13)))\n",
    "IPO_1804, IPO_1808, IPO_1812 = ipo_group(2018,list(range(1,5))), ipo_group(2018,list(range(5,9))), ipo_group(2018,list(range(9,13)))"
   ]
  },
  {
   "cell_type": "markdown",
   "metadata": {},
   "source": [
    "### **2. WebCrawler Function**\n",
    "* open news page\n",
    "* collect news title date name for each company\n",
    "* collect news content for each company\n",
    "* save as excel file"
   ]
  },
  {
   "cell_type": "code",
   "execution_count": 8,
   "metadata": {},
   "outputs": [],
   "source": [
    "# function to open infotimes webpage\n",
    "def open_infotimes():\n",
    "    driver.implicitly_wait(10)\n",
    "    # maximize window\n",
    "    driver.maximize_window()\n",
    "    # connect to news search page of infotimes\n",
    "    driver.get('http://kmw.chinatimes.com/News/NewsSearch.aspx?searchkind=a&keyword=')\n",
    "    # login\n",
    "    driver.find_element_by_xpath(\"/html/body/form/div[3]/div[1]/div[2]/p[2]/a\").click()\n",
    "    url = driver.current_url\n",
    "    # deselect Want Daily \n",
    "    driver.find_element_by_xpath(\"/html/body/form/div[5]/div[1]/table/tbody/tr[1]/td[2]/span/label[4]/input\").click()"
   ]
  },
  {
   "cell_type": "code",
   "execution_count": 9,
   "metadata": {},
   "outputs": [],
   "source": [
    "# get news_title, date, name; use in get_news() function\n",
    "def get_title_date_name(x,y):\n",
    "    # title, append to title list\n",
    "    for title in x.find_all(class_ = \"NewsContetn\"):\n",
    "        title_list.append(title.text.replace(\"\\n\",\"\"))\n",
    "    # date, append to date list\n",
    "    for date in x.find_all(class_ = \"temp-gvList-row\"):\n",
    "        date_list.append(re.search('[\\d]{4}/[\\d]{2}/[\\d]{2}', date.text.replace(\"\\n\",\"\").replace(\" \",\"\")).group(0))\n",
    "    # name, append to name list\n",
    "    for i in range(len(x.find_all(class_ = \"NewsContetn\"))):\n",
    "        name_list.append(y)"
   ]
  },
  {
   "cell_type": "code",
   "execution_count": 10,
   "metadata": {},
   "outputs": [],
   "source": [
    "# get news content; use in get_news()\n",
    "def get_content(i):\n",
    "    # new tab\n",
    "    new_tab = driver.find_element_by_xpath(\"/html/body/form/div[5]/div[3]/div/table/tbody/tr[\"+str(i)+\"]/td[5]/a\") \n",
    "    action = ActionChains(driver)\n",
    "    action.move_to_element(new_tab).key_down(Keys.CONTROL).click(new_tab).key_up(Keys.CONTROL).perform() # new tab\n",
    "    time.sleep(3) # wait for new tab \n",
    "    driver.switch_to.window(driver.window_handles[1]) # switch to new tab\n",
    "    time.sleep(1)\n",
    "\n",
    "    # get content of new tab, append to content list\n",
    "    bsobj = BeautifulSoup(driver.page_source,\"lxml\") \n",
    "    content = bsobj.find(\"article\", id = \"dvContainer\")\n",
    "    # remove unwanted block\n",
    "    content.style.decompose()\n",
    "    content.table.decompose()\n",
    "    # append to list\n",
    "    content_list.append(content.get_text().replace(\"\\n\",\"\").replace(\"\\t\",\"\").replace(\"\\u3000\",\"\").replace(\" \",\"\"))\n",
    "    time.sleep(1)\n",
    "\n",
    "    # close new tab\n",
    "    driver.close()\n",
    "    time.sleep(1)\n",
    "\n",
    "    # switch back to search result page\n",
    "    driver.switch_to.window(driver.window_handles[0])"
   ]
  },
  {
   "cell_type": "code",
   "execution_count": 11,
   "metadata": {},
   "outputs": [],
   "source": [
    "# select and clear column content \n",
    "def clear(element):\n",
    "    element.send_keys(Keys.CONTROL,'a')\n",
    "    element.send_keys(Keys.BACKSPACE)"
   ]
  },
  {
   "cell_type": "code",
   "execution_count": 12,
   "metadata": {},
   "outputs": [],
   "source": [
    "def get_news(name,start_date,end_date):\n",
    "    # input search name\n",
    "    search_elm = driver.find_element_by_xpath(\"/html/body/form[@id='aspnetForm']/div[@class='container clear-fix']/div[@class='master-content clear-fix']/table[@class='search']/tbody/tr[2]/td[2]/span[@class='auto-style2']/input[@id='txtKeyword']\")\n",
    "    clear(search_elm)\n",
    "    search_elm.send_keys(name)\n",
    "    time.sleep(1)\n",
    "    \n",
    "    # input search date range\n",
    "    start = driver.find_element_by_id(\"txtSDate\")\n",
    "    clear(start)\n",
    "    start.send_keys(u\"\"+start_date)\n",
    "    time.sleep(1)\n",
    "\n",
    "    end = driver.find_element_by_id(\"txtEDate\")\n",
    "    clear(end)\n",
    "    end.send_keys(u\"\"+end_date)\n",
    "    time.sleep(1)\n",
    "    \n",
    "    # click on search button\n",
    "    driver.find_element_by_xpath(\"/html/body/form/div[5]/div[1]/input\").click()                                  \n",
    "    time.sleep(3)\n",
    "\n",
    "    # Find news result number\n",
    "    news = BeautifulSoup(driver.page_source, \"lxml\")\n",
    "    time.sleep(1)\n",
    "    news_num = int(news.find(id = \"ctl00_ContentPlaceHolder1_UCPage1_lblRowCount\").text)\n",
    "\n",
    "    # Find news page\n",
    "    if (news_num/10).is_integer():\n",
    "        news_page = int(news_num/10) \n",
    "    else:\n",
    "        news_page = int(news_num/10)+1\n",
    "    \n",
    "    # For loop to change page and get news content\n",
    "    for i in range(0,news_page+1):\n",
    "        # no page\n",
    "        if i == 0:\n",
    "            pass\n",
    "        # page 1\n",
    "        elif i == 1:\n",
    "            get_title_date_name(news,name)\n",
    "            for j in range(2,(news_num-(i*10-12))):\n",
    "                if j <= 11:\n",
    "                    get_content(j)\n",
    "        # other page\n",
    "        else:\n",
    "            #click to change page\n",
    "            driver.find_element_by_xpath(\"/html/body/form/div[5]/div[2]/table/tbody/tr/td[3]/div/span[2]/a[2]\").click()\n",
    "            news = BeautifulSoup(driver.page_source, \"lxml\")\n",
    "            get_title_date_name(news,name)\n",
    "            time.sleep(1)\n",
    "            for j in range(2,(news_num-(i*10-12))):\n",
    "                if j <= 11:\n",
    "                    get_content(j)\n",
    "    \n",
    "    gc.collect()\n",
    "    time.sleep(1)"
   ]
  },
  {
   "cell_type": "code",
   "execution_count": 7,
   "metadata": {},
   "outputs": [],
   "source": [
    "def excel(title):\n",
    "    df = pd.DataFrame({'name':name_list,'date':date_list,'title':title_list,'content':content_list})\n",
    "    df.to_excel('./news_data/times_'+title+'.xlsx', index=False)\n",
    "    return df"
   ]
  },
  {
   "cell_type": "code",
   "execution_count": 262,
   "metadata": {
    "jupyter": {
     "source_hidden": true
    }
   },
   "outputs": [],
   "source": [
    "# driver = webdriver.Chrome('./chromedriver')  \n",
    "driver = webdriver.Chrome(executable_path=r'/Users/user/Documents/FinancialEconometrics/Webcralwer/Ch07/chromedriver')\n",
    "driver.implicitly_wait(10)\n",
    "driver.maximize_window()\n",
    "driver.get('http://kmw.chinatimes.com/News/NewsSearch.aspx?searchkind=a&keyword=')  \n",
    "driver.find_element_by_xpath(\"/html/body/form/div[3]/div[1]/div[2]/p[2]/a\").click()\n",
    "# time.sleep(5)\n",
    "\n",
    "# 搜索新聞\n",
    "url = driver.current_url\n",
    "driver.implicitly_wait(10)\n",
    "driver.get(url)\n",
    "driver.find_element_by_xpath(\"/html/body/form/div[5]/div[1]/table/tbody/tr[1]/td[2]/span/label[4]/input\").click()\n",
    "\n",
    "# send in search keys\n",
    "search_elm = driver.find_element_by_xpath(\"/html/body/form[@id='aspnetForm']/div[@class='container clear-fix']/div[@class='master-content clear-fix']/table[@class='search']/tbody/tr[2]/td[2]/span[@class='auto-style2']/input[@id='txtKeyword']\")\n",
    "clear(search_elm)\n",
    "search_elm.send_keys(u'碩天')\n",
    "\n",
    "start = driver.find_element_by_id(\"txtSDate\")\n",
    "clear(start)\n",
    "start.send_keys(u\"2009/11/23\")\n",
    "time.sleep(1)\n",
    "\n",
    "end = driver.find_element_by_id(\"txtEDate\")\n",
    "clear(end)\n",
    "end.send_keys(u\"2009/12/22\")\n",
    "time.sleep(1)\n",
    "\n",
    "#click on search button\n",
    "driver.find_element_by_xpath(\"/html/body/form/div[5]/div[1]/input\").click()                                  \n",
    "time.sleep(5)\n",
    "\n",
    "# Find news result number\n",
    "news = BeautifulSoup(driver.page_source, \"lxml\")\n",
    "time.sleep(1)\n",
    "news_num = int(news.find(id = \"ctl00_ContentPlaceHolder1_UCPage1_lblRowCount\").text)\n",
    "\n",
    "# Find news page\n",
    "if (news_num/10).is_integer():\n",
    "    news_page = int(news_num/10) \n",
    "else:\n",
    "    news_page = int(news_num/10)+1\n",
    "\n",
    "title_list = []\n",
    "date_list = []\n",
    "name_list = []\n",
    "content_list = []\n",
    "\n",
    "for i in range(0,news_page+1):\n",
    "    # no page\n",
    "    if i == 0:\n",
    "        pass\n",
    "    # page 1\n",
    "    elif i == 1:\n",
    "        # title, append to title list\n",
    "        for title in news.find_all(class_ = \"NewsContetn\"):\n",
    "            title_list.append(title.text.replace(\"\\n\",\"\"))\n",
    "        # date, append to date list\n",
    "        for date in news.find_all(class_ = \"temp-gvList-row\"):\n",
    "            text = date.text.replace(\"\\n\",\"\").replace(\" \",\"\")\n",
    "            date_list.append(re.search('[\\d]{4}/[\\d]{2}/[\\d]{2}', text).group(0))\n",
    "        # name, append to name list\n",
    "        for i in range(len(news.find_all(class_ = \"NewsContetn\"))):\n",
    "            name_list.append('碩天')\n",
    "        for j in range(2,3):\n",
    "            if j <= 11:\n",
    "                get_content(j)\n",
    "    # other page\n",
    "    else:\n",
    "        #click to change page\n",
    "        driver.find_element_by_xpath(\"/html/body/form/div[5]/div[2]/table/tbody/tr/td[3]/div/span[2]/a[2]\").click()\n",
    "        news = BeautifulSoup(driver.page_source, \"lxml\")\n",
    "        get_title_date_name(news,'碩天')\n",
    "        time.sleep(1)\n",
    "        for j in range(2,3):\n",
    "            if j <= 11:\n",
    "                get_content(j)\n",
    "\n",
    "# driver.quit()"
   ]
  },
  {
   "cell_type": "markdown",
   "metadata": {},
   "source": [
    "* 2006"
   ]
  },
  {
   "cell_type": "code",
   "execution_count": 35,
   "metadata": {},
   "outputs": [],
   "source": [
    "IPO_0604_drop = IPO_0604[~IPO_0604['name'].isin(['一零四'])].reset_index(drop = True)"
   ]
  },
  {
   "cell_type": "code",
   "execution_count": 6,
   "metadata": {
    "jupyter": {
     "source_hidden": true
    }
   },
   "outputs": [],
   "source": [
    "driver = webdriver.Chrome('./chromedriver')  \n",
    "open_infotimes()\n",
    "\n",
    "title_list = []\n",
    "date_list = []\n",
    "name_list = []\n",
    "content_list = []\n",
    "\n",
    "for i,j,k in zip(IPO_0604_drop['name'], IPO_0604_drop['start_date'], IPO_0604_drop['end_date']):\n",
    "    get_news(i,j,k)\n",
    "\n",
    "driver.quit()\n",
    "df_0604 = excel('0604')"
   ]
  },
  {
   "cell_type": "code",
   "execution_count": 37,
   "metadata": {},
   "outputs": [],
   "source": [
    "IPO_0608_drop = IPO_0608[~IPO_0608['name'].isin(['中天'])].reset_index(drop = True)"
   ]
  },
  {
   "cell_type": "code",
   "execution_count": 38,
   "metadata": {
    "jupyter": {
     "source_hidden": true
    }
   },
   "outputs": [],
   "source": [
    "driver = webdriver.Chrome('./chromedriver')  \n",
    "open_infotimes()\n",
    "\n",
    "title_list = []\n",
    "date_list = []\n",
    "name_list = []\n",
    "content_list = []\n",
    "\n",
    "for i,j,k in zip(IPO_0608_drop['name'], IPO_0608_drop['start_date'], IPO_0608_drop['end_date']):\n",
    "    get_news(i,j,k)\n",
    "\n",
    "driver.quit()\n",
    "df_0608 = excel('0608')"
   ]
  },
  {
   "cell_type": "code",
   "execution_count": 39,
   "metadata": {},
   "outputs": [],
   "source": [
    "IPO_0612_drop = IPO_0612[~IPO_0612['name'].isin(['創意'])].reset_index(drop = True)"
   ]
  },
  {
   "cell_type": "code",
   "execution_count": 40,
   "metadata": {
    "jupyter": {
     "source_hidden": true
    }
   },
   "outputs": [],
   "source": [
    "driver = webdriver.Chrome('./chromedriver')  \n",
    "open_infotimes()\n",
    "\n",
    "title_list = []\n",
    "date_list = []\n",
    "name_list = []\n",
    "content_list = []\n",
    "\n",
    "for i,j,k in zip(IPO_0612_drop['name'], IPO_0612_drop['start_date'], IPO_0612_drop['end_date']):\n",
    "    get_news(i,j,k)\n",
    "\n",
    "driver.quit()\n",
    "df_0612 = excel('0612')"
   ]
  },
  {
   "cell_type": "markdown",
   "metadata": {},
   "source": [
    "* 2007"
   ]
  },
  {
   "cell_type": "code",
   "execution_count": 41,
   "metadata": {
    "jupyter": {
     "source_hidden": true
    }
   },
   "outputs": [],
   "source": [
    "driver = webdriver.Chrome('./chromedriver')  \n",
    "open_infotimes()\n",
    "\n",
    "title_list = []\n",
    "date_list = []\n",
    "name_list = []\n",
    "content_list = []\n",
    "\n",
    "for i,j,k in zip(IPO_0704['name'], IPO_0704['start_date'], IPO_0704['end_date']):\n",
    "    get_news(i,j,k)\n",
    "\n",
    "driver.quit()\n",
    "df_0704 = excel('0704')"
   ]
  },
  {
   "cell_type": "code",
   "execution_count": 42,
   "metadata": {
    "jupyter": {
     "source_hidden": true
    }
   },
   "outputs": [],
   "source": [
    "driver = webdriver.Chrome('./chromedriver')  \n",
    "open_infotimes()\n",
    "\n",
    "title_list = []\n",
    "date_list = []\n",
    "name_list = []\n",
    "content_list = []\n",
    "\n",
    "for i,j,k in zip(IPO_0708['name'], IPO_0708['start_date'], IPO_0708['end_date']):\n",
    "    get_news(i,j,k)\n",
    "\n",
    "driver.quit()\n",
    "df_0708 = excel('0708')"
   ]
  },
  {
   "cell_type": "code",
   "execution_count": 43,
   "metadata": {},
   "outputs": [],
   "source": [
    "IPO_0712_drop = IPO_0712[~IPO_0712['name'].isin(['無敵'])].reset_index(drop = True)"
   ]
  },
  {
   "cell_type": "code",
   "execution_count": 44,
   "metadata": {
    "jupyter": {
     "source_hidden": true
    }
   },
   "outputs": [],
   "source": [
    "driver = webdriver.Chrome('./chromedriver')  \n",
    "open_infotimes()\n",
    "\n",
    "title_list = []\n",
    "date_list = []\n",
    "name_list = []\n",
    "content_list = []\n",
    "\n",
    "for i,j,k in zip(IPO_0712_drop['name'], IPO_0712_drop['start_date'], IPO_0712_drop['end_date']):\n",
    "    get_news(i,j,k)\n",
    "\n",
    "driver.quit()\n",
    "df_0712 = excel('0712')"
   ]
  },
  {
   "cell_type": "markdown",
   "metadata": {},
   "source": [
    "* 2008"
   ]
  },
  {
   "cell_type": "code",
   "execution_count": 45,
   "metadata": {
    "jupyter": {
     "source_hidden": true
    }
   },
   "outputs": [],
   "source": [
    "driver = webdriver.Chrome('./chromedriver')  \n",
    "open_infotimes()\n",
    "\n",
    "title_list = []\n",
    "date_list = []\n",
    "name_list = []\n",
    "content_list = []\n",
    "\n",
    "for i,j,k in zip(IPO_0804['name'], IPO_0804['start_date'], IPO_0804['end_date']):\n",
    "    get_news(i,j,k)\n",
    "\n",
    "driver.quit()\n",
    "df_0804 = excel('0804')"
   ]
  },
  {
   "cell_type": "code",
   "execution_count": 46,
   "metadata": {},
   "outputs": [],
   "source": [
    "IPO_0808_drop = IPO_0808[~IPO_0808['name'].isin(['進階'])].reset_index(drop = True)"
   ]
  },
  {
   "cell_type": "code",
   "execution_count": 47,
   "metadata": {
    "jupyter": {
     "source_hidden": true
    }
   },
   "outputs": [],
   "source": [
    "driver = webdriver.Chrome('./chromedriver')  \n",
    "open_infotimes()\n",
    "\n",
    "title_list = []\n",
    "date_list = []\n",
    "name_list = []\n",
    "content_list = []\n",
    "\n",
    "for i,j,k in zip(IPO_0808_drop['name'], IPO_0808_drop['start_date'], IPO_0808_drop['end_date']):\n",
    "    get_news(i,j,k)\n",
    "\n",
    "driver.quit()\n",
    "df_0808 = excel('0808')"
   ]
  },
  {
   "cell_type": "code",
   "execution_count": 48,
   "metadata": {
    "jupyter": {
     "source_hidden": true
    }
   },
   "outputs": [],
   "source": [
    "driver = webdriver.Chrome('./chromedriver')  \n",
    "open_infotimes()\n",
    "\n",
    "title_list = []\n",
    "date_list = []\n",
    "name_list = []\n",
    "content_list = []\n",
    "\n",
    "for i,j,k in zip(IPO_0812['name'], IPO_0812['start_date'], IPO_0812['end_date']):\n",
    "    get_news(i,j,k)\n",
    "\n",
    "driver.quit()\n",
    "df_0812 = excel('0812')"
   ]
  },
  {
   "cell_type": "markdown",
   "metadata": {},
   "source": [
    "* 2009"
   ]
  },
  {
   "cell_type": "code",
   "execution_count": 49,
   "metadata": {
    "jupyter": {
     "source_hidden": true
    }
   },
   "outputs": [],
   "source": [
    "driver = webdriver.Chrome('./chromedriver')  \n",
    "open_infotimes()\n",
    "\n",
    "title_list = []\n",
    "date_list = []\n",
    "name_list = []\n",
    "content_list = []\n",
    "\n",
    "for i,j,k in zip(IPO_0904['name'], IPO_0904['start_date'], IPO_0904['end_date']):\n",
    "    get_news(i,j,k)\n",
    "\n",
    "driver.quit()\n",
    "df_0904 = excel('0904')"
   ]
  },
  {
   "cell_type": "code",
   "execution_count": 50,
   "metadata": {
    "jupyter": {
     "source_hidden": true
    }
   },
   "outputs": [],
   "source": [
    "driver = webdriver.Chrome('./chromedriver')  \n",
    "open_infotimes()\n",
    "\n",
    "title_list = []\n",
    "date_list = []\n",
    "name_list = []\n",
    "content_list = []\n",
    "\n",
    "for i,j,k in zip(IPO_0908['name'], IPO_0908['start_date'], IPO_0908['end_date']):\n",
    "    get_news(i,j,k)\n",
    "\n",
    "driver.quit()\n",
    "df_0908 = excel('0908')"
   ]
  },
  {
   "cell_type": "code",
   "execution_count": 51,
   "metadata": {
    "jupyter": {
     "source_hidden": true
    }
   },
   "outputs": [],
   "source": [
    "driver = webdriver.Chrome('./chromedriver')  \n",
    "open_infotimes()\n",
    "\n",
    "title_list = []\n",
    "date_list = []\n",
    "name_list = []\n",
    "content_list = []\n",
    "\n",
    "for i,j,k in zip(IPO_0912['name'], IPO_0912['start_date'], IPO_0912['end_date']):\n",
    "    get_news(i,j,k)\n",
    "\n",
    "driver.quit()\n",
    "df_0912 = excel('0912')"
   ]
  },
  {
   "cell_type": "markdown",
   "metadata": {},
   "source": [
    "* 2010"
   ]
  },
  {
   "cell_type": "code",
   "execution_count": 37,
   "metadata": {
    "jupyter": {
     "source_hidden": true
    }
   },
   "outputs": [],
   "source": [
    "driver = webdriver.Chrome('./chromedriver')  \n",
    "open_infotimes()\n",
    "\n",
    "title_list = []\n",
    "date_list = []\n",
    "name_list = []\n",
    "content_list = []\n",
    "\n",
    "for i,j,k in zip(IPO_1004['name'], IPO_1004['start_date'], IPO_1004['end_date']):\n",
    "    get_news(i,j,k)\n",
    "\n",
    "driver.quit()\n",
    "df_1004 = excel('1004')"
   ]
  },
  {
   "cell_type": "code",
   "execution_count": 38,
   "metadata": {
    "jupyter": {
     "source_hidden": true
    }
   },
   "outputs": [],
   "source": [
    "driver = webdriver.Chrome('./chromedriver')  \n",
    "open_infotimes()\n",
    "\n",
    "title_list = []\n",
    "date_list = []\n",
    "name_list = []\n",
    "content_list = []\n",
    "\n",
    "for i,j,k in zip(IPO_1008['name'], IPO_1008['start_date'], IPO_1008['end_date']):\n",
    "    get_news(i,j,k)\n",
    "\n",
    "driver.quit()\n",
    "df_1008 = excel('1008')"
   ]
  },
  {
   "cell_type": "code",
   "execution_count": 39,
   "metadata": {
    "jupyter": {
     "source_hidden": true
    }
   },
   "outputs": [],
   "source": [
    "driver = webdriver.Chrome('./chromedriver')  \n",
    "open_infotimes()\n",
    "\n",
    "title_list = []\n",
    "date_list = []\n",
    "name_list = []\n",
    "content_list = []\n",
    "\n",
    "for i,j,k in zip(IPO_1012['name'], IPO_1012['start_date'], IPO_1012['end_date']):\n",
    "    get_news(i,j,k)\n",
    "\n",
    "driver.quit()\n",
    "df_1012 = excel('1012')"
   ]
  },
  {
   "cell_type": "markdown",
   "metadata": {},
   "source": [
    "* 2011"
   ]
  },
  {
   "cell_type": "code",
   "execution_count": 40,
   "metadata": {
    "jupyter": {
     "source_hidden": true
    }
   },
   "outputs": [],
   "source": [
    "driver = webdriver.Chrome('./chromedriver')  \n",
    "open_infotimes()\n",
    "\n",
    "title_list = []\n",
    "date_list = []\n",
    "name_list = []\n",
    "content_list = []\n",
    "\n",
    "for i,j,k in zip(IPO_1104['name'], IPO_1104['start_date'], IPO_1104['end_date']):\n",
    "    get_news(i,j,k)\n",
    "\n",
    "driver.quit()\n",
    "df_1104 = excel('1104')"
   ]
  },
  {
   "cell_type": "code",
   "execution_count": 41,
   "metadata": {},
   "outputs": [],
   "source": [
    "IPO_1108_drop = IPO_1108[~IPO_1108['name'].isin(['辣椒'])].reset_index(drop = True)"
   ]
  },
  {
   "cell_type": "code",
   "execution_count": 42,
   "metadata": {
    "jupyter": {
     "source_hidden": true
    }
   },
   "outputs": [],
   "source": [
    "driver = webdriver.Chrome('./chromedriver')  \n",
    "open_infotimes()\n",
    "\n",
    "title_list = []\n",
    "date_list = []\n",
    "name_list = []\n",
    "content_list = []\n",
    "\n",
    "for i,j,k in zip(IPO_1108_drop['name'], IPO_1108_drop['start_date'], IPO_1108_drop['end_date']):\n",
    "    get_news(i,j,k)\n",
    "\n",
    "driver.quit()\n",
    "df_1108 = excel('1108')"
   ]
  },
  {
   "cell_type": "code",
   "execution_count": 43,
   "metadata": {},
   "outputs": [],
   "source": [
    "IPO_1112_drop = IPO_1112[~IPO_1112['name'].isin(['合一','傳奇','安心','基亞'])].reset_index(drop = True)"
   ]
  },
  {
   "cell_type": "code",
   "execution_count": 44,
   "metadata": {
    "jupyter": {
     "source_hidden": true
    }
   },
   "outputs": [],
   "source": [
    "driver = webdriver.Chrome('./chromedriver')  \n",
    "open_infotimes()\n",
    "\n",
    "title_list = []\n",
    "date_list = []\n",
    "name_list = []\n",
    "content_list = []\n",
    "\n",
    "for i,j,k in zip(IPO_1112_drop['name'], IPO_1112_drop['start_date'], IPO_1112_drop['end_date']):\n",
    "    get_news(i,j,k)\n",
    "\n",
    "driver.quit()\n",
    "df_1112 = excel('1112')"
   ]
  },
  {
   "cell_type": "markdown",
   "metadata": {},
   "source": [
    "* 2012"
   ]
  },
  {
   "cell_type": "code",
   "execution_count": 45,
   "metadata": {
    "jupyter": {
     "source_hidden": true
    }
   },
   "outputs": [],
   "source": [
    "driver = webdriver.Chrome('./chromedriver')  \n",
    "open_infotimes()\n",
    "\n",
    "title_list = []\n",
    "date_list = []\n",
    "name_list = []\n",
    "content_list = []\n",
    "\n",
    "for i,j,k in zip(IPO_1204['name'], IPO_1204['start_date'], IPO_1204['end_date']):\n",
    "    get_news(i,j,k)\n",
    "\n",
    "driver.quit()\n",
    "df_1204 = excel('1204')"
   ]
  },
  {
   "cell_type": "code",
   "execution_count": 46,
   "metadata": {
    "jupyter": {
     "source_hidden": true
    }
   },
   "outputs": [],
   "source": [
    "driver = webdriver.Chrome('./chromedriver')  \n",
    "open_infotimes()\n",
    "\n",
    "title_list = []\n",
    "date_list = []\n",
    "name_list = []\n",
    "content_list = []\n",
    "\n",
    "for i,j,k in zip(IPO_1208['name'], IPO_1208['start_date'], IPO_1208['end_date']):\n",
    "    get_news(i,j,k)\n",
    "\n",
    "driver.quit()\n",
    "df_1208 = excel('1208')"
   ]
  },
  {
   "cell_type": "code",
   "execution_count": 36,
   "metadata": {},
   "outputs": [],
   "source": [
    "IPO_1212_drop = IPO_1212[~IPO_1212['name'].isin(['惠普'])].reset_index(drop = True)"
   ]
  },
  {
   "cell_type": "code",
   "execution_count": 47,
   "metadata": {
    "jupyter": {
     "source_hidden": true
    }
   },
   "outputs": [],
   "source": [
    "driver = webdriver.Chrome('./chromedriver')  \n",
    "open_infotimes()\n",
    "\n",
    "title_list = []\n",
    "date_list = []\n",
    "name_list = []\n",
    "content_list = []\n",
    "\n",
    "for i,j,k in zip(IPO_1212_drop['name'], IPO_1212_drop['start_date'], IPO_1212_drop['end_date']):\n",
    "    get_news(i,j,k)\n",
    "\n",
    "driver.quit()\n",
    "df_1212 = excel('1212')"
   ]
  },
  {
   "cell_type": "markdown",
   "metadata": {},
   "source": [
    "* 2013"
   ]
  },
  {
   "cell_type": "code",
   "execution_count": 75,
   "metadata": {},
   "outputs": [],
   "source": [
    "driver = webdriver.Chrome('./chromedriver')  \n",
    "open_infotimes()\n",
    "\n",
    "title_list = []\n",
    "date_list = []\n",
    "name_list = []\n",
    "content_list = []\n",
    "\n",
    "for i,j,k in zip(IPO_1304['name'], IPO_1304['start_date'], IPO_1304['end_date']):\n",
    "    get_news(i,j,k)\n",
    "\n",
    "driver.quit()\n",
    "df_1304 = excel('1304')"
   ]
  },
  {
   "cell_type": "code",
   "execution_count": 76,
   "metadata": {},
   "outputs": [],
   "source": [
    "driver = webdriver.Chrome('./chromedriver')  \n",
    "open_infotimes()\n",
    "\n",
    "title_list = []\n",
    "date_list = []\n",
    "name_list = []\n",
    "content_list = []\n",
    "\n",
    "for i,j,k in zip(IPO_1308['name'], IPO_1308['start_date'], IPO_1308['end_date']):\n",
    "    get_news(i,j,k)\n",
    "\n",
    "driver.quit()\n",
    "df_1308 = excel('1308')"
   ]
  },
  {
   "cell_type": "code",
   "execution_count": 77,
   "metadata": {},
   "outputs": [],
   "source": [
    "IPO_1312_drop = IPO_1312[~IPO_1312['name'].isin(['大量'])].reset_index(drop = True)"
   ]
  },
  {
   "cell_type": "code",
   "execution_count": 78,
   "metadata": {},
   "outputs": [],
   "source": [
    "driver = webdriver.Chrome('./chromedriver')  \n",
    "open_infotimes()\n",
    "\n",
    "title_list = []\n",
    "date_list = []\n",
    "name_list = []\n",
    "content_list = []\n",
    "\n",
    "for i,j,k in zip(IPO_1312_drop['name'], IPO_1312_drop['start_date'], IPO_1312_drop['end_date']):\n",
    "    get_news(i,j,k)\n",
    "\n",
    "driver.quit()\n",
    "df_1312 = excel('1312')"
   ]
  },
  {
   "cell_type": "markdown",
   "metadata": {},
   "source": [
    "* 2014"
   ]
  },
  {
   "cell_type": "code",
   "execution_count": 79,
   "metadata": {},
   "outputs": [],
   "source": [
    "IPO_1404_drop = IPO_1404[~IPO_1404['name'].isin(['數字'])].reset_index(drop = True)"
   ]
  },
  {
   "cell_type": "code",
   "execution_count": 80,
   "metadata": {},
   "outputs": [],
   "source": [
    "driver = webdriver.Chrome('./chromedriver')  \n",
    "open_infotimes()\n",
    "\n",
    "title_list = []\n",
    "date_list = []\n",
    "name_list = []\n",
    "content_list = []\n",
    "\n",
    "for i,j,k in zip(IPO_1404_drop['name'], IPO_1404_drop['start_date'], IPO_1404_drop['end_date']):\n",
    "    get_news(i,j,k)\n",
    "\n",
    "driver.quit()\n",
    "df_1404 = excel('1404')"
   ]
  },
  {
   "cell_type": "code",
   "execution_count": 81,
   "metadata": {},
   "outputs": [],
   "source": [
    "driver = webdriver.Chrome('./chromedriver')  \n",
    "open_infotimes()\n",
    "\n",
    "title_list = []\n",
    "date_list = []\n",
    "name_list = []\n",
    "content_list = []\n",
    "\n",
    "for i,j,k in zip(IPO_1408['name'], IPO_1408['start_date'], IPO_1408['end_date']):\n",
    "    get_news(i,j,k)\n",
    "\n",
    "driver.quit()\n",
    "df_1408 = excel('1408')"
   ]
  },
  {
   "cell_type": "code",
   "execution_count": 82,
   "metadata": {},
   "outputs": [],
   "source": [
    "driver = webdriver.Chrome('./chromedriver')  \n",
    "open_infotimes()\n",
    "\n",
    "title_list = []\n",
    "date_list = []\n",
    "name_list = []\n",
    "content_list = []\n",
    "\n",
    "for i,j,k in zip(IPO_1412['name'], IPO_1412['start_date'], IPO_1412['end_date']):\n",
    "    get_news(i,j,k)\n",
    "\n",
    "driver.quit()\n",
    "df_1412 = excel('1412')"
   ]
  },
  {
   "cell_type": "markdown",
   "metadata": {},
   "source": [
    "* 2015"
   ]
  },
  {
   "cell_type": "code",
   "execution_count": 83,
   "metadata": {},
   "outputs": [],
   "source": [
    "driver = webdriver.Chrome('./chromedriver')  \n",
    "open_infotimes()\n",
    "\n",
    "title_list = []\n",
    "date_list = []\n",
    "name_list = []\n",
    "content_list = []\n",
    "\n",
    "for i,j,k in zip(IPO_1504['name'], IPO_1504['start_date'], IPO_1504['end_date']):\n",
    "    get_news(i,j,k)\n",
    "\n",
    "driver.quit()\n",
    "df_1504 = excel('1504')"
   ]
  },
  {
   "cell_type": "code",
   "execution_count": 84,
   "metadata": {},
   "outputs": [],
   "source": [
    "driver = webdriver.Chrome('./chromedriver')  \n",
    "open_infotimes()\n",
    "\n",
    "title_list = []\n",
    "date_list = []\n",
    "name_list = []\n",
    "content_list = []\n",
    "\n",
    "for i,j,k in zip(IPO_1508['name'], IPO_1508['start_date'], IPO_1508['end_date']):\n",
    "    get_news(i,j,k)\n",
    "\n",
    "driver.quit()\n",
    "df_1508 = excel('1508')"
   ]
  },
  {
   "cell_type": "code",
   "execution_count": 85,
   "metadata": {},
   "outputs": [],
   "source": [
    "driver = webdriver.Chrome('./chromedriver')  \n",
    "open_infotimes()\n",
    "\n",
    "title_list = []\n",
    "date_list = []\n",
    "name_list = []\n",
    "content_list = []\n",
    "\n",
    "for i,j,k in zip(IPO_1512['name'], IPO_1512['start_date'], IPO_1512['end_date']):\n",
    "    get_news(i,j,k)\n",
    "\n",
    "driver.quit()\n",
    "df_1512 = excel('1512')"
   ]
  },
  {
   "cell_type": "markdown",
   "metadata": {},
   "source": [
    "* 2016"
   ]
  },
  {
   "cell_type": "code",
   "execution_count": 87,
   "metadata": {},
   "outputs": [],
   "source": [
    "driver = webdriver.Chrome('./chromedriver')  \n",
    "open_infotimes()\n",
    "\n",
    "title_list = []\n",
    "date_list = []\n",
    "name_list = []\n",
    "content_list = []\n",
    "\n",
    "for i,j,k in zip(IPO_1604['name'], IPO_1604['start_date'], IPO_1604['end_date']):\n",
    "    get_news(i,j,k)\n",
    "\n",
    "driver.quit()\n",
    "df_1604 = excel('1604')"
   ]
  },
  {
   "cell_type": "code",
   "execution_count": 88,
   "metadata": {},
   "outputs": [],
   "source": [
    "driver = webdriver.Chrome('./chromedriver')  \n",
    "open_infotimes()\n",
    "\n",
    "title_list = []\n",
    "date_list = []\n",
    "name_list = []\n",
    "content_list = []\n",
    "\n",
    "for i,j,k in zip(IPO_1608['name'], IPO_1608['start_date'], IPO_1608['end_date']):\n",
    "    get_news(i,j,k)\n",
    "\n",
    "driver.quit()\n",
    "df_1608 = excel('1608')"
   ]
  },
  {
   "cell_type": "code",
   "execution_count": 89,
   "metadata": {},
   "outputs": [],
   "source": [
    "IPO_1612_drop = IPO_1612[~IPO_1612['name'].isin(['互動','創業家'])].reset_index(drop = True)"
   ]
  },
  {
   "cell_type": "code",
   "execution_count": 90,
   "metadata": {},
   "outputs": [],
   "source": [
    "driver = webdriver.Chrome('./chromedriver')  \n",
    "open_infotimes()\n",
    "\n",
    "title_list = []\n",
    "date_list = []\n",
    "name_list = []\n",
    "content_list = []\n",
    "\n",
    "for i,j,k in zip(IPO_1612_drop['name'], IPO_1612_drop['start_date'], IPO_1612_drop['end_date']):\n",
    "    get_news(i,j,k)\n",
    "\n",
    "driver.quit()\n",
    "df_1612 = excel('1612')"
   ]
  },
  {
   "cell_type": "markdown",
   "metadata": {},
   "source": [
    "* 2017"
   ]
  },
  {
   "cell_type": "code",
   "execution_count": 27,
   "metadata": {},
   "outputs": [],
   "source": [
    "driver = webdriver.Chrome('./chromedriver')  \n",
    "open_infotimes()\n",
    "\n",
    "title_list = []\n",
    "date_list = []\n",
    "name_list = []\n",
    "content_list = []\n",
    "\n",
    "for i,j,k in zip(IPO_1704['name'], IPO_1704['start_date'], IPO_1704['end_date']):\n",
    "    get_news(i,j,k)\n",
    "\n",
    "driver.quit()\n",
    "df_1704 = excel('1704')"
   ]
  },
  {
   "cell_type": "code",
   "execution_count": 14,
   "metadata": {},
   "outputs": [],
   "source": [
    "driver = webdriver.Chrome('./chromedriver')  \n",
    "open_infotimes()\n",
    "\n",
    "title_list = []\n",
    "date_list = []\n",
    "name_list = []\n",
    "content_list = []\n",
    "\n",
    "for i,j,k in zip(IPO_1708['name'], IPO_1708['start_date'], IPO_1708['end_date']):\n",
    "    get_news(i,j,k)\n",
    "\n",
    "driver.quit()\n",
    "df_1708 = excel('1708')"
   ]
  },
  {
   "cell_type": "code",
   "execution_count": 15,
   "metadata": {},
   "outputs": [],
   "source": [
    "driver = webdriver.Chrome('./chromedriver')  \n",
    "open_infotimes()\n",
    "\n",
    "title_list = []\n",
    "date_list = []\n",
    "name_list = []\n",
    "content_list = []\n",
    "\n",
    "for i,j,k in zip(IPO_1712['name'], IPO_1712['start_date'], IPO_1712['end_date']):\n",
    "    get_news(i,j,k)\n",
    "\n",
    "driver.quit()\n",
    "df_1712 = excel('1712')"
   ]
  },
  {
   "cell_type": "markdown",
   "metadata": {},
   "source": [
    "* 2018"
   ]
  },
  {
   "cell_type": "code",
   "execution_count": 16,
   "metadata": {},
   "outputs": [],
   "source": [
    "driver = webdriver.Chrome('./chromedriver')  \n",
    "open_infotimes()\n",
    "\n",
    "title_list = []\n",
    "date_list = []\n",
    "name_list = []\n",
    "content_list = []\n",
    "\n",
    "for i,j,k in zip(IPO_1804['name'], IPO_1804['start_date'], IPO_1804['end_date']):\n",
    "    get_news(i,j,k)\n",
    "\n",
    "driver.quit()\n",
    "df_1804 = excel('1804')"
   ]
  },
  {
   "cell_type": "code",
   "execution_count": 17,
   "metadata": {},
   "outputs": [],
   "source": [
    "driver = webdriver.Chrome('./chromedriver')  \n",
    "open_infotimes()\n",
    "\n",
    "title_list = []\n",
    "date_list = []\n",
    "name_list = []\n",
    "content_list = []\n",
    "\n",
    "for i,j,k in zip(IPO_1808['name'], IPO_1808['start_date'], IPO_1808['end_date']):\n",
    "    get_news(i,j,k)\n",
    "\n",
    "driver.quit()\n",
    "df_1808 = excel('1808')"
   ]
  },
  {
   "cell_type": "code",
   "execution_count": 18,
   "metadata": {},
   "outputs": [],
   "source": [
    "driver = webdriver.Chrome('./chromedriver')  \n",
    "open_infotimes()\n",
    "\n",
    "title_list = []\n",
    "date_list = []\n",
    "name_list = []\n",
    "content_list = []\n",
    "\n",
    "for i,j,k in zip(IPO_1812['name'], IPO_1812['start_date'], IPO_1812['end_date']):\n",
    "    get_news(i,j,k)\n",
    "\n",
    "driver.quit()\n",
    "df_1812 = excel('1812')"
   ]
  }
 ],
 "metadata": {
  "kernelspec": {
   "display_name": "Python 3",
   "language": "python",
   "name": "python3"
  },
  "language_info": {
   "codemirror_mode": {
    "name": "ipython",
    "version": 3
   },
   "file_extension": ".py",
   "mimetype": "text/x-python",
   "name": "python",
   "nbconvert_exporter": "python",
   "pygments_lexer": "ipython3",
   "version": "3.7.3"
  }
 },
 "nbformat": 4,
 "nbformat_minor": 4
}
